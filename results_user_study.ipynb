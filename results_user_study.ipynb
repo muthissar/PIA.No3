{
 "cells": [
  {
   "cell_type": "code",
   "execution_count": 48,
   "metadata": {},
   "outputs": [
    {
     "name": "stdout",
     "output_type": "stream",
     "text": [
      "The autoreload extension is already loaded. To reload it, use:\n",
      "  %reload_ext autoreload\n"
     ]
    }
   ],
   "source": [
    "%load_ext autoreload\n",
    "%autoreload 2"
   ]
  },
  {
   "cell_type": "code",
   "execution_count": 49,
   "metadata": {},
   "outputs": [],
   "source": [
    "from sqlalchemy import create_engine\n",
    "import pandas as pd\n",
    "# import getpass\n"
   ]
  },
  {
   "cell_type": "code",
   "execution_count": 50,
   "metadata": {},
   "outputs": [],
   "source": [
    "# password = getpass.getpass()\n",
    "# !RSYNC_PASSWORD={password} rsync -avPR -e 'ssh -p 23263' mathias@gate08.aime.info:/home/mathias/workspace/pia-ic-web/./results.db ~/Downloads\n",
    "# del password"
   ]
  },
  {
   "cell_type": "code",
   "execution_count": 63,
   "metadata": {},
   "outputs": [],
   "source": [
    "# db = '/home/mathias/Downloads/results.db'\n",
    "db = '/home/mathias/devel/python/pia-ic-web/pia-ic-web/results.db'\n",
    "with create_engine(f'sqlite:///{db}').connect() as conn: \n",
    "    result = pd.read_sql_table('result', conn)\n",
    "    sample_collection = pd.read_sql_table('sample_collection', conn)\n"
   ]
  },
  {
   "cell_type": "code",
   "execution_count": 64,
   "metadata": {},
   "outputs": [
    {
     "data": {
      "text/html": [
       "<div>\n",
       "<style scoped>\n",
       "    .dataframe tbody tr th:only-of-type {\n",
       "        vertical-align: middle;\n",
       "    }\n",
       "\n",
       "    .dataframe tbody tr th {\n",
       "        vertical-align: top;\n",
       "    }\n",
       "\n",
       "    .dataframe thead th {\n",
       "        text-align: right;\n",
       "    }\n",
       "</style>\n",
       "<table border=\"1\" class=\"dataframe\">\n",
       "  <thead>\n",
       "    <tr style=\"text-align: right;\">\n",
       "      <th></th>\n",
       "      <th>id</th>\n",
       "      <th>time</th>\n",
       "      <th>exp_type</th>\n",
       "      <th>correct_piece</th>\n",
       "      <th>correct_exp</th>\n",
       "      <th>correct_sample</th>\n",
       "      <th>selected_piece</th>\n",
       "      <th>selected_exp</th>\n",
       "      <th>selected_sample</th>\n",
       "    </tr>\n",
       "  </thead>\n",
       "  <tbody>\n",
       "    <tr>\n",
       "      <th>51</th>\n",
       "      <td>52</td>\n",
       "      <td>2024-03-27 16:31:59</td>\n",
       "      <td>drawn_curves</td>\n",
       "      <td>kv331_1_start_-45_nodes_134_end_0</td>\n",
       "      <td>d30e81355ddfe0c3bc1975e719f3457053510c566c1e49...</td>\n",
       "      <td>6</td>\n",
       "      <td>kv331_1_start_-45_nodes_134_end_0</td>\n",
       "      <td>d30e81355ddfe0c3bc1975e719f3457053510c566c1e49...</td>\n",
       "      <td>6</td>\n",
       "    </tr>\n",
       "    <tr>\n",
       "      <th>52</th>\n",
       "      <td>53</td>\n",
       "      <td>2024-03-27 16:46:29</td>\n",
       "      <td>0</td>\n",
       "      <td>126</td>\n",
       "      <td>8be2450735d84156c7a8b0c22e611ca531bf536ab6f8e7...</td>\n",
       "      <td>1</td>\n",
       "      <td>126</td>\n",
       "      <td>8be2450735d84156c7a8b0c22e611ca531bf536ab6f8e7...</td>\n",
       "      <td>1</td>\n",
       "    </tr>\n",
       "    <tr>\n",
       "      <th>53</th>\n",
       "      <td>54</td>\n",
       "      <td>2024-03-27 16:48:38</td>\n",
       "      <td>0</td>\n",
       "      <td>180</td>\n",
       "      <td>8be2450735d84156c7a8b0c22e611ca531bf536ab6f8e7...</td>\n",
       "      <td>1</td>\n",
       "      <td>180</td>\n",
       "      <td>8be2450735d84156c7a8b0c22e611ca531bf536ab6f8e7...</td>\n",
       "      <td>1</td>\n",
       "    </tr>\n",
       "    <tr>\n",
       "      <th>54</th>\n",
       "      <td>55</td>\n",
       "      <td>2024-03-27 16:48:53</td>\n",
       "      <td>0</td>\n",
       "      <td>180</td>\n",
       "      <td>8be2450735d84156c7a8b0c22e611ca531bf536ab6f8e7...</td>\n",
       "      <td>1</td>\n",
       "      <td>180</td>\n",
       "      <td>8be2450735d84156c7a8b0c22e611ca531bf536ab6f8e7...</td>\n",
       "      <td>1</td>\n",
       "    </tr>\n",
       "    <tr>\n",
       "      <th>55</th>\n",
       "      <td>56</td>\n",
       "      <td>2024-03-27 16:51:43</td>\n",
       "      <td>0</td>\n",
       "      <td>61</td>\n",
       "      <td>8be2450735d84156c7a8b0c22e611ca531bf536ab6f8e7...</td>\n",
       "      <td>2</td>\n",
       "      <td>61</td>\n",
       "      <td>8be2450735d84156c7a8b0c22e611ca531bf536ab6f8e7...</td>\n",
       "      <td>2</td>\n",
       "    </tr>\n",
       "  </tbody>\n",
       "</table>\n",
       "</div>"
      ],
      "text/plain": [
       "    id                 time      exp_type                      correct_piece  \\\n",
       "51  52  2024-03-27 16:31:59  drawn_curves  kv331_1_start_-45_nodes_134_end_0   \n",
       "52  53  2024-03-27 16:46:29             0                                126   \n",
       "53  54  2024-03-27 16:48:38             0                                180   \n",
       "54  55  2024-03-27 16:48:53             0                                180   \n",
       "55  56  2024-03-27 16:51:43             0                                 61   \n",
       "\n",
       "                                          correct_exp  correct_sample  \\\n",
       "51  d30e81355ddfe0c3bc1975e719f3457053510c566c1e49...               6   \n",
       "52  8be2450735d84156c7a8b0c22e611ca531bf536ab6f8e7...               1   \n",
       "53  8be2450735d84156c7a8b0c22e611ca531bf536ab6f8e7...               1   \n",
       "54  8be2450735d84156c7a8b0c22e611ca531bf536ab6f8e7...               1   \n",
       "55  8be2450735d84156c7a8b0c22e611ca531bf536ab6f8e7...               2   \n",
       "\n",
       "                       selected_piece  \\\n",
       "51  kv331_1_start_-45_nodes_134_end_0   \n",
       "52                                126   \n",
       "53                                180   \n",
       "54                                180   \n",
       "55                                 61   \n",
       "\n",
       "                                         selected_exp  selected_sample  \n",
       "51  d30e81355ddfe0c3bc1975e719f3457053510c566c1e49...                6  \n",
       "52  8be2450735d84156c7a8b0c22e611ca531bf536ab6f8e7...                1  \n",
       "53  8be2450735d84156c7a8b0c22e611ca531bf536ab6f8e7...                1  \n",
       "54  8be2450735d84156c7a8b0c22e611ca531bf536ab6f8e7...                1  \n",
       "55  8be2450735d84156c7a8b0c22e611ca531bf536ab6f8e7...                2  "
      ]
     },
     "execution_count": 64,
     "metadata": {},
     "output_type": "execute_result"
    }
   ],
   "source": [
    "result.tail(5)"
   ]
  },
  {
   "cell_type": "code",
   "execution_count": 67,
   "metadata": {},
   "outputs": [
    {
     "data": {
      "text/plain": [
       "array([('2024-03-27 16:31:59', 'd30e81355ddfe0c3bc1975e719f3457053510c566c1e49e2494bae4dbfddc66a/samplingconfig-k-traces-128-temperature-1-0-n-poly-notes-none-dynamic-temperature-max-ic-50-0-top-p-0-0-top-k-0/kv331_1_start_-45_nodes_134_end_0/6', 'd30e81355ddfe0c3bc1975e719f3457053510c566c1e49e2494bae4dbfddc66a/samplingconfig-k-traces-128-temperature-1-0-n-poly-notes-none-dynamic-temperature-max-ic-50-0-top-p-0-0-top-k-0/kv331_1_start_-45_nodes_134_end_0/6'),\n",
       "       ('2024-03-27 16:46:29', '8be2450735d84156c7a8b0c22e611ca531bf536ab6f8e71ccc50c8817b9cc67a/samplingconfig-k-traces-128-temperature-1-0-n-poly-notes-none-dynamic-temperature-max-ic-50-0-top-p-0-0-top-k-0/126/1', '8be2450735d84156c7a8b0c22e611ca531bf536ab6f8e71ccc50c8817b9cc67a/samplingconfig-k-traces-128-temperature-1-0-n-poly-notes-none-dynamic-temperature-max-ic-50-0-top-p-0-0-top-k-0/126/1'),\n",
       "       ('2024-03-27 16:48:38', '8be2450735d84156c7a8b0c22e611ca531bf536ab6f8e71ccc50c8817b9cc67a/samplingconfig-k-traces-128-temperature-1-0-n-poly-notes-none-dynamic-temperature-max-ic-50-0-top-p-0-0-top-k-0/180/1', '8be2450735d84156c7a8b0c22e611ca531bf536ab6f8e71ccc50c8817b9cc67a/samplingconfig-k-traces-128-temperature-1-0-n-poly-notes-none-dynamic-temperature-max-ic-50-0-top-p-0-0-top-k-0/180/1'),\n",
       "       ('2024-03-27 16:48:53', '8be2450735d84156c7a8b0c22e611ca531bf536ab6f8e71ccc50c8817b9cc67a/samplingconfig-k-traces-128-temperature-1-0-n-poly-notes-none-dynamic-temperature-max-ic-50-0-top-p-0-0-top-k-0/180/1', '8be2450735d84156c7a8b0c22e611ca531bf536ab6f8e71ccc50c8817b9cc67a/samplingconfig-k-traces-128-temperature-1-0-n-poly-notes-none-dynamic-temperature-max-ic-50-0-top-p-0-0-top-k-0/180/1'),\n",
       "       ('2024-03-27 16:51:43', '8be2450735d84156c7a8b0c22e611ca531bf536ab6f8e71ccc50c8817b9cc67a/samplingconfig-k-traces-128-temperature-1-0-n-poly-notes-none-dynamic-temperature-max-ic-50-0-top-p-0-0-top-k-0/61/2', '8be2450735d84156c7a8b0c22e611ca531bf536ab6f8e71ccc50c8817b9cc67a/samplingconfig-k-traces-128-temperature-1-0-n-poly-notes-none-dynamic-temperature-max-ic-50-0-top-p-0-0-top-k-0/61/2')],\n",
       "      dtype=object)"
      ]
     },
     "execution_count": 67,
     "metadata": {},
     "output_type": "execute_result"
    }
   ],
   "source": [
    "def hehe(x):\n",
    "    return x['time'], x['correct_exp']+ '/'+'samplingconfig-k-traces-128-temperature-1-0-n-poly-notes-none-dynamic-temperature-max-ic-50-0-top-p-0-0-top-k-0'+'/'+x['correct_piece']+'/'+str(x['correct_sample']) ,x['selected_exp']+ '/'+'samplingconfig-k-traces-128-temperature-1-0-n-poly-notes-none-dynamic-temperature-max-ic-50-0-top-p-0-0-top-k-0'+'/'+x['selected_piece']+'/'+str(x['selected_sample'])\n",
    "result.tail(5).apply(hehe,axis=1).values\n"
   ]
  },
  {
   "cell_type": "code",
   "execution_count": 41,
   "metadata": {},
   "outputs": [
    {
     "data": {
      "text/plain": [
       "exp_type\n",
       "0               1.00000\n",
       "1               1.00000\n",
       "2               1.00000\n",
       "drawn_curves    0.55814\n",
       "dtype: float64"
      ]
     },
     "execution_count": 41,
     "metadata": {},
     "output_type": "execute_result"
    }
   ],
   "source": [
    "result.groupby('exp_type').apply(lambda result: (result.correct_exp == result.selected_exp).mean())"
   ]
  }
 ],
 "metadata": {
  "kernelspec": {
   "display_name": "Python 3",
   "language": "python",
   "name": "python3"
  },
  "language_info": {
   "codemirror_mode": {
    "name": "ipython",
    "version": 3
   },
   "file_extension": ".py",
   "mimetype": "text/x-python",
   "name": "python",
   "nbconvert_exporter": "python",
   "pygments_lexer": "ipython3",
   "version": "3.8.18"
  }
 },
 "nbformat": 4,
 "nbformat_minor": 2
}
