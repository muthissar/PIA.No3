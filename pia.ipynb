{
 "cells": [
  {
   "cell_type": "code",
   "execution_count": 1,
   "metadata": {},
   "outputs": [],
   "source": [
    "%load_ext autoreload\n",
    "%autoreload 2"
   ]
  },
  {
   "cell_type": "code",
   "execution_count": 2,
   "metadata": {},
   "outputs": [],
   "source": [
    "import sys\n",
    "sys.path.append('/share/hel/home/mathias/Download/performer-pytorch/')\n",
    "sys.path.append('/share/hel/home/mathias/Download/fast-transformers/')"
   ]
  },
  {
   "cell_type": "code",
   "execution_count": 4,
   "metadata": {},
   "outputs": [
    {
     "ename": "ModuleNotFoundError",
     "evalue": "No module named 'DatasetManager'",
     "output_type": "error",
     "traceback": [
      "\u001b[0;31m---------------------------------------------------------------------------\u001b[0m",
      "\u001b[0;31mModuleNotFoundError\u001b[0m                       Traceback (most recent call last)",
      "\u001b[1;32m/share/hel/home/mathias/devel/python3/PIA.No3/pia.ipynb Cell 3\u001b[0m line \u001b[0;36m4\n\u001b[1;32m      <a href='vscode-notebook-cell://ssh-remote%2Brk4.cp.jku.at/share/hel/home/mathias/devel/python3/PIA.No3/pia.ipynb#W2sdnNjb2RlLXJlbW90ZQ%3D%3D?line=1'>2</a>\u001b[0m \u001b[39mimport\u001b[39;00m \u001b[39mtorch\u001b[39;00m\n\u001b[1;32m      <a href='vscode-notebook-cell://ssh-remote%2Brk4.cp.jku.at/share/hel/home/mathias/devel/python3/PIA.No3/pia.ipynb#W2sdnNjb2RlLXJlbW90ZQ%3D%3D?line=2'>3</a>\u001b[0m \u001b[39mimport\u001b[39;00m \u001b[39mos\u001b[39;00m\n\u001b[0;32m----> <a href='vscode-notebook-cell://ssh-remote%2Brk4.cp.jku.at/share/hel/home/mathias/devel/python3/PIA.No3/pia.ipynb#W2sdnNjb2RlLXJlbW90ZQ%3D%3D?line=3'>4</a>\u001b[0m \u001b[39mfrom\u001b[39;00m \u001b[39mCIA\u001b[39;00m\u001b[39m.\u001b[39;00m\u001b[39mgetters\u001b[39;00m \u001b[39mimport\u001b[39;00m get_handler\n\u001b[1;32m      <a href='vscode-notebook-cell://ssh-remote%2Brk4.cp.jku.at/share/hel/home/mathias/devel/python3/PIA.No3/pia.ipynb#W2sdnNjb2RlLXJlbW90ZQ%3D%3D?line=4'>5</a>\u001b[0m \u001b[39mimport\u001b[39;00m \u001b[39mtime\u001b[39;00m\n\u001b[1;32m      <a href='vscode-notebook-cell://ssh-remote%2Brk4.cp.jku.at/share/hel/home/mathias/devel/python3/PIA.No3/pia.ipynb#W2sdnNjb2RlLXJlbW90ZQ%3D%3D?line=5'>6</a>\u001b[0m \u001b[39mfrom\u001b[39;00m \u001b[39mCIA\u001b[39;00m\u001b[39m.\u001b[39;00m\u001b[39mgetters\u001b[39;00m \u001b[39mimport\u001b[39;00m get_data_processing, get_model, get_positional_embedding, get_sos_embedding\n",
      "File \u001b[0;32m/share/hel/home/mathias/devel/python3/PIA.No3/CIA/getters.py:2\u001b[0m\n\u001b[1;32m      1\u001b[0m \u001b[39m# TODO: Clean imports (like the handlers' one)\u001b[39;00m\n\u001b[0;32m----> 2\u001b[0m \u001b[39mfrom\u001b[39;00m \u001b[39mCIA\u001b[39;00m\u001b[39m.\u001b[39;00m\u001b[39mmodel\u001b[39;00m\u001b[39m.\u001b[39;00m\u001b[39mtransformer\u001b[39;00m\u001b[39m.\u001b[39;00m\u001b[39mperceiverio\u001b[39;00m \u001b[39mimport\u001b[39;00m PerceiverIO\n\u001b[1;32m      3\u001b[0m \u001b[39mfrom\u001b[39;00m \u001b[39mCIA\u001b[39;00m\u001b[39m.\u001b[39;00m\u001b[39mmodel\u001b[39;00m\u001b[39m.\u001b[39;00m\u001b[39mtransformer\u001b[39;00m\u001b[39m.\u001b[39;00m\u001b[39mcatformer\u001b[39;00m \u001b[39mimport\u001b[39;00m Catformer\n\u001b[1;32m      4\u001b[0m \u001b[39mfrom\u001b[39;00m \u001b[39mCIA\u001b[39;00m\u001b[39m.\u001b[39;00m\u001b[39mmodel\u001b[39;00m\u001b[39m.\u001b[39;00m\u001b[39mcausal_events_model\u001b[39;00m \u001b[39mimport\u001b[39;00m CausalEventsModel\n",
      "File \u001b[0;32m/share/hel/home/mathias/devel/python3/PIA.No3/CIA/model/transformer/perceiverio.py:2\u001b[0m\n\u001b[1;32m      1\u001b[0m \u001b[39m# from performer_pytorch.performer_pytorch import SelfAttention\u001b[39;00m\n\u001b[0;32m----> 2\u001b[0m \u001b[39mfrom\u001b[39;00m \u001b[39mCIA\u001b[39;00m\u001b[39m.\u001b[39;00m\u001b[39mmodel\u001b[39;00m\u001b[39m.\u001b[39;00m\u001b[39mcausal_events_model_full_cat\u001b[39;00m \u001b[39mimport\u001b[39;00m GEGLU, GeneralSWIGLU\n\u001b[1;32m      3\u001b[0m \u001b[39mimport\u001b[39;00m \u001b[39mtorch\u001b[39;00m\u001b[39m.\u001b[39;00m\u001b[39mnn\u001b[39;00m \u001b[39mas\u001b[39;00m \u001b[39mnn\u001b[39;00m\n\u001b[1;32m      4\u001b[0m \u001b[39mimport\u001b[39;00m \u001b[39mtorch\u001b[39;00m\u001b[39m.\u001b[39;00m\u001b[39mnn\u001b[39;00m\u001b[39m.\u001b[39;00m\u001b[39mfunctional\u001b[39;00m \u001b[39mas\u001b[39;00m \u001b[39mF\u001b[39;00m\n",
      "File \u001b[0;32m/share/hel/home/mathias/devel/python3/PIA.No3/CIA/model/causal_events_model_full_cat.py:4\u001b[0m\n\u001b[1;32m      2\u001b[0m \u001b[39mfrom\u001b[39;00m \u001b[39mCIA\u001b[39;00m\u001b[39m.\u001b[39;00m\u001b[39mpositional_embeddings\u001b[39;00m\u001b[39m.\u001b[39;00m\u001b[39mpositional_embedding\u001b[39;00m \u001b[39mimport\u001b[39;00m PositionalEmbedding\n\u001b[1;32m      3\u001b[0m \u001b[39mfrom\u001b[39;00m \u001b[39mtorch\u001b[39;00m \u001b[39mimport\u001b[39;00m nn\n\u001b[0;32m----> 4\u001b[0m \u001b[39mfrom\u001b[39;00m \u001b[39mCIA\u001b[39;00m\u001b[39m.\u001b[39;00m\u001b[39mdata_processors\u001b[39;00m \u001b[39mimport\u001b[39;00m DataProcessor\n\u001b[1;32m      5\u001b[0m \u001b[39mfrom\u001b[39;00m \u001b[39mCIA\u001b[39;00m\u001b[39m.\u001b[39;00m\u001b[39mdataloaders\u001b[39;00m\u001b[39m.\u001b[39;00m\u001b[39mdataloader\u001b[39;00m \u001b[39mimport\u001b[39;00m DataloaderGenerator\n\u001b[1;32m      6\u001b[0m \u001b[39mfrom\u001b[39;00m \u001b[39mCIA\u001b[39;00m\u001b[39m.\u001b[39;00m\u001b[39mutils\u001b[39;00m \u001b[39mimport\u001b[39;00m flatten, categorical_crossentropy\n",
      "File \u001b[0;32m/share/hel/home/mathias/devel/python3/PIA.No3/CIA/data_processors/__init__.py:2\u001b[0m\n\u001b[1;32m      1\u001b[0m \u001b[39mfrom\u001b[39;00m \u001b[39m.\u001b[39;00m\u001b[39mdata_processor\u001b[39;00m \u001b[39mimport\u001b[39;00m DataProcessor\n\u001b[0;32m----> 2\u001b[0m \u001b[39mfrom\u001b[39;00m \u001b[39m.\u001b[39;00m\u001b[39mpiano_data_processor\u001b[39;00m \u001b[39mimport\u001b[39;00m PianoDataProcessor, MaskedPianoSourceTargetDataProcessor\n\u001b[1;32m      3\u001b[0m \u001b[39mfrom\u001b[39;00m \u001b[39m.\u001b[39;00m\u001b[39msource_target_data_processor\u001b[39;00m \u001b[39mimport\u001b[39;00m SourceTargetDataProcessor\n\u001b[1;32m      4\u001b[0m \u001b[39mfrom\u001b[39;00m \u001b[39m.\u001b[39;00m\u001b[39mbach_data_processor\u001b[39;00m \u001b[39mimport\u001b[39;00m BachDataProcessor, MaskedBachSourceTargetDataProcessor\n",
      "File \u001b[0;32m/share/hel/home/mathias/devel/python3/PIA.No3/CIA/data_processors/piano_data_processor.py:7\u001b[0m\n\u001b[1;32m      5\u001b[0m \u001b[39mfrom\u001b[39;00m \u001b[39mtorch\u001b[39;00m \u001b[39mimport\u001b[39;00m nn\n\u001b[1;32m      6\u001b[0m \u001b[39mfrom\u001b[39;00m \u001b[39mCIA\u001b[39;00m\u001b[39m.\u001b[39;00m\u001b[39mutils\u001b[39;00m \u001b[39mimport\u001b[39;00m cuda_variable\n\u001b[0;32m----> 7\u001b[0m \u001b[39mfrom\u001b[39;00m \u001b[39mDatasetManager\u001b[39;00m\u001b[39m.\u001b[39;00m\u001b[39mpiano\u001b[39;00m\u001b[39m.\u001b[39;00m\u001b[39mpiano_midi_dataset\u001b[39;00m \u001b[39mimport\u001b[39;00m PAD_SYMBOL, START_SYMBOL\n\u001b[1;32m      9\u001b[0m \u001b[39mclass\u001b[39;00m \u001b[39mPianoDataProcessor\u001b[39;00m(DataProcessor):\n\u001b[1;32m     10\u001b[0m     \u001b[39mdef\u001b[39;00m \u001b[39m__init__\u001b[39m(\u001b[39mself\u001b[39m,\n\u001b[1;32m     11\u001b[0m                  dataloader_generator,\n\u001b[1;32m     12\u001b[0m                  embedding_size,\n\u001b[1;32m     13\u001b[0m                  num_events,\n\u001b[1;32m     14\u001b[0m                  num_tokens_per_channel,\n\u001b[1;32m     15\u001b[0m                  add_mask_token\u001b[39m=\u001b[39m\u001b[39mFalse\u001b[39;00m):\n",
      "\u001b[0;31mModuleNotFoundError\u001b[0m: No module named 'DatasetManager'"
     ]
    }
   ],
   "source": [
    "from pretty_midi import PrettyMIDI\n",
    "import torch\n",
    "import os\n",
    "from CIA.getters import get_handler\n",
    "import time\n",
    "from CIA.getters import get_data_processing, get_model, get_positional_embedding, get_sos_embedding\n",
    "import importlib\n",
    "from CIA.positional_embeddings.positional_embedding import PositionalEmbedding\n",
    "from torch.nn.parallel import DistributedDataParallel"
   ]
  },
  {
   "cell_type": "code",
   "execution_count": 3,
   "metadata": {},
   "outputs": [],
   "source": [
    "from CIA.utils import get_free_port\n",
    "\n",
    "\n",
    "GPU = 3\n",
    "rank = GPU\n",
    "world_size = 1\n",
    "rank = 0\n",
    "os.environ[\"MASTER_ADDR\"] = \"localhost\"\n",
    "os.environ[\"MASTER_PORT\"] = str(get_free_port())\n",
    "if torch.cuda.is_available() and GPU in list(range(4)):\n",
    "    torch.distributed.init_process_group(backend=\"nccl\", world_size=world_size, rank=rank)\n",
    "    torch.cuda.set_device(rank)\n",
    "    device_ids = [rank]\n",
    "    output_device = rank\n",
    "    device = f\"cuda:{rank}\"\n",
    "else:\n",
    "    # cpu case\n",
    "    torch.distributed.init_process_group(backend=\"gloo\", world_size=world_size, rank=rank)\n",
    "    device_ids = None\n",
    "    output_device = None\n",
    "    device = \"cpu\"\n"
   ]
  },
  {
   "cell_type": "code",
   "execution_count": 6,
   "metadata": {},
   "outputs": [
    {
     "ename": "KeyError",
     "evalue": "'offset_beginning'",
     "output_type": "error",
     "traceback": [
      "\u001b[0;31m---------------------------------------------------------------------------\u001b[0m",
      "\u001b[0;31mKeyError\u001b[0m                                  Traceback (most recent call last)",
      "\u001b[1;32m/share/hel/home/mathias/devel/python3/PIA.No3/pia.ipynb Cell 4\u001b[0m line \u001b[0;36m9\n\u001b[1;32m      <a href='vscode-notebook-cell://ssh-remote%2Brk4.cp.jku.at/share/hel/home/mathias/devel/python3/PIA.No3/pia.ipynb#W3sdnNjb2RlLXJlbW90ZQ%3D%3D?line=5'>6</a>\u001b[0m overfitted \u001b[39m=\u001b[39m \u001b[39mTrue\u001b[39;00m\n\u001b[1;32m      <a href='vscode-notebook-cell://ssh-remote%2Brk4.cp.jku.at/share/hel/home/mathias/devel/python3/PIA.No3/pia.ipynb#W3sdnNjb2RlLXJlbW90ZQ%3D%3D?line=7'>8</a>\u001b[0m \u001b[39m# === Model ====\u001b[39;00m\n\u001b[0;32m----> <a href='vscode-notebook-cell://ssh-remote%2Brk4.cp.jku.at/share/hel/home/mathias/devel/python3/PIA.No3/pia.ipynb#W3sdnNjb2RlLXJlbW90ZQ%3D%3D?line=8'>9</a>\u001b[0m dataloader_generator, data_processor \u001b[39m=\u001b[39m get_data_processing(\n\u001b[1;32m     <a href='vscode-notebook-cell://ssh-remote%2Brk4.cp.jku.at/share/hel/home/mathias/devel/python3/PIA.No3/pia.ipynb#W3sdnNjb2RlLXJlbW90ZQ%3D%3D?line=9'>10</a>\u001b[0m     dataset\u001b[39m=\u001b[39;49mconfig[\u001b[39m\"\u001b[39;49m\u001b[39mdataset\u001b[39;49m\u001b[39m\"\u001b[39;49m],\n\u001b[1;32m     <a href='vscode-notebook-cell://ssh-remote%2Brk4.cp.jku.at/share/hel/home/mathias/devel/python3/PIA.No3/pia.ipynb#W3sdnNjb2RlLXJlbW90ZQ%3D%3D?line=10'>11</a>\u001b[0m     dataloader_generator_kwargs\u001b[39m=\u001b[39;49mconfig[\u001b[39m\"\u001b[39;49m\u001b[39mdataloader_generator_kwargs\u001b[39;49m\u001b[39m\"\u001b[39;49m],\n\u001b[1;32m     <a href='vscode-notebook-cell://ssh-remote%2Brk4.cp.jku.at/share/hel/home/mathias/devel/python3/PIA.No3/pia.ipynb#W3sdnNjb2RlLXJlbW90ZQ%3D%3D?line=11'>12</a>\u001b[0m     data_processor_kwargs\u001b[39m=\u001b[39;49mconfig[\u001b[39m\"\u001b[39;49m\u001b[39mdata_processor_kwargs\u001b[39;49m\u001b[39m\"\u001b[39;49m],\n\u001b[1;32m     <a href='vscode-notebook-cell://ssh-remote%2Brk4.cp.jku.at/share/hel/home/mathias/devel/python3/PIA.No3/pia.ipynb#W3sdnNjb2RlLXJlbW90ZQ%3D%3D?line=12'>13</a>\u001b[0m )\n\u001b[1;32m     <a href='vscode-notebook-cell://ssh-remote%2Brk4.cp.jku.at/share/hel/home/mathias/devel/python3/PIA.No3/pia.ipynb#W3sdnNjb2RlLXJlbW90ZQ%3D%3D?line=13'>14</a>\u001b[0m \u001b[39m# positional embedding\u001b[39;00m\n\u001b[1;32m     <a href='vscode-notebook-cell://ssh-remote%2Brk4.cp.jku.at/share/hel/home/mathias/devel/python3/PIA.No3/pia.ipynb#W3sdnNjb2RlLXJlbW90ZQ%3D%3D?line=14'>15</a>\u001b[0m positional_embedding: PositionalEmbedding \u001b[39m=\u001b[39m get_positional_embedding(\n\u001b[1;32m     <a href='vscode-notebook-cell://ssh-remote%2Brk4.cp.jku.at/share/hel/home/mathias/devel/python3/PIA.No3/pia.ipynb#W3sdnNjb2RlLXJlbW90ZQ%3D%3D?line=15'>16</a>\u001b[0m     dataloader_generator\u001b[39m=\u001b[39mdataloader_generator,\n\u001b[1;32m     <a href='vscode-notebook-cell://ssh-remote%2Brk4.cp.jku.at/share/hel/home/mathias/devel/python3/PIA.No3/pia.ipynb#W3sdnNjb2RlLXJlbW90ZQ%3D%3D?line=16'>17</a>\u001b[0m     data_processor\u001b[39m=\u001b[39mdata_processor,\n\u001b[1;32m     <a href='vscode-notebook-cell://ssh-remote%2Brk4.cp.jku.at/share/hel/home/mathias/devel/python3/PIA.No3/pia.ipynb#W3sdnNjb2RlLXJlbW90ZQ%3D%3D?line=17'>18</a>\u001b[0m     positional_embedding_dict\u001b[39m=\u001b[39mconfig[\u001b[39m\"\u001b[39m\u001b[39mpositional_embedding_dict\u001b[39m\u001b[39m\"\u001b[39m],\n\u001b[1;32m     <a href='vscode-notebook-cell://ssh-remote%2Brk4.cp.jku.at/share/hel/home/mathias/devel/python3/PIA.No3/pia.ipynb#W3sdnNjb2RlLXJlbW90ZQ%3D%3D?line=18'>19</a>\u001b[0m )\n",
      "File \u001b[0;32m/share/hel/home/mathias/devel/python3/PIA.No3/CIA/getters.py:32\u001b[0m, in \u001b[0;36mget_data_processing\u001b[0;34m(dataset, dataloader_generator_kwargs, data_processor_kwargs)\u001b[0m\n\u001b[1;32m     27\u001b[0m \u001b[39mdef\u001b[39;00m \u001b[39mget_data_processing\u001b[39m(dataset, dataloader_generator_kwargs, data_processor_kwargs):\n\u001b[1;32m     28\u001b[0m     \u001b[39mif\u001b[39;00m dataset \u001b[39m==\u001b[39m \u001b[39m\"\u001b[39m\u001b[39mpiano\u001b[39m\u001b[39m\"\u001b[39m:\n\u001b[1;32m     29\u001b[0m         dataloader_generator \u001b[39m=\u001b[39m PianoDataloaderGenerator(\n\u001b[1;32m     30\u001b[0m             sequences_size\u001b[39m=\u001b[39mdataloader_generator_kwargs[\u001b[39m\"\u001b[39m\u001b[39msequences_size\u001b[39m\u001b[39m\"\u001b[39m],\n\u001b[1;32m     31\u001b[0m             transformations\u001b[39m=\u001b[39mdataloader_generator_kwargs[\u001b[39m\"\u001b[39m\u001b[39mtransformations\u001b[39m\u001b[39m\"\u001b[39m],\n\u001b[0;32m---> 32\u001b[0m             offset_beginning\u001b[39m=\u001b[39mdataloader_generator_kwargs[\u001b[39m\"\u001b[39;49m\u001b[39moffset_beginning\u001b[39;49m\u001b[39m\"\u001b[39;49m],\n\u001b[1;32m     33\u001b[0m             offset_end\u001b[39m=\u001b[39mdataloader_generator_kwargs[\u001b[39m\"\u001b[39m\u001b[39moffset_end\u001b[39m\u001b[39m\"\u001b[39m],\n\u001b[1;32m     34\u001b[0m             num_elements\u001b[39m=\u001b[39m\u001b[39mNone\u001b[39;00m,\n\u001b[1;32m     35\u001b[0m         )\n\u001b[1;32m     36\u001b[0m         num_events \u001b[39m=\u001b[39m dataloader_generator\u001b[39m.\u001b[39msequences_size\n\u001b[1;32m     37\u001b[0m         value2index \u001b[39m=\u001b[39m dataloader_generator\u001b[39m.\u001b[39mdataset\u001b[39m.\u001b[39mvalue2index\n",
      "\u001b[0;31mKeyError\u001b[0m: 'offset_beginning'"
     ]
    }
   ],
   "source": [
    "\n",
    "# config =  importlib.import_module('CIA.configs.piarceiverRw').config\n",
    "config =  importlib.import_module('CIA.configs.piarceiverStack').config\n",
    "# config = importlib.import_module('.config', f'{model_dir.replace(\"/\", \".\")}').config\n",
    "model_dir = 'models/piano_event_performer_2021-10-01_16:03:06'\n",
    "load = True\n",
    "overfitted = True\n",
    "\n",
    "# === Model ====\n",
    "dataloader_generator, data_processor = get_data_processing(\n",
    "    dataset=config[\"dataset\"],\n",
    "    dataloader_generator_kwargs=config[\"dataloader_generator_kwargs\"],\n",
    "    data_processor_kwargs=config[\"data_processor_kwargs\"],\n",
    ")\n",
    "# positional embedding\n",
    "positional_embedding: PositionalEmbedding = get_positional_embedding(\n",
    "    dataloader_generator=dataloader_generator,\n",
    "    data_processor=data_processor,\n",
    "    positional_embedding_dict=config[\"positional_embedding_dict\"],\n",
    ")\n",
    "\n",
    "# sos embedding\n",
    "sos_embedding = get_sos_embedding(\n",
    "    dataloader_generator=dataloader_generator,\n",
    "    sos_embedding_dict=config[\"sos_embedding_dict\"],\n",
    ")\n",
    "\n",
    "# TODO: don't override config\n",
    "# config = importlib.import_module('.config', f'{model_dir.replace(\"/\", \".\")}').config\n",
    "model = get_model(\n",
    "    data_processor=data_processor,\n",
    "    dataloader_generator=dataloader_generator,\n",
    "    positional_embedding=positional_embedding,\n",
    "    sos_embedding=sos_embedding,\n",
    "    model_kwargs=config[\"model_kwargs\"],\n",
    "    # model_kwargs=config[\"decoder_kwargs\"]\n",
    ")\n",
    "\n",
    "model.to(device)\n",
    "model = DistributedDataParallel(\n",
    "    module=model, device_ids=device_ids, output_device=output_device\n",
    ")\n",
    "\n",
    "model_handler = get_handler(\n",
    "    model=model,\n",
    "    model_dir=model_dir,\n",
    "    dataloader_generator=dataloader_generator,\n",
    ")\n",
    "\n",
    "if load:\n",
    "    if overfitted:\n",
    "        model_handler.load(early_stopped=False, device=device)\n",
    "    else:\n",
    "        model_handler.load(early_stopped=True, device=device)\n",
    "\n",
    "\n",
    "model = model.to(device)\n",
    "data_processor = data_processor.to(device)\n",
    "\n",
    "# model_dir = \"lolo\"\n",
    "(_, generator_val, _) = dataloader_generator.dataloaders(\n",
    "    batch_size=1, shuffle_val=True\n",
    ")\n",
    "null_superconditioning = [1, 1.5, 2, 2.5]\n",
    "\n",
    "id_ = 2\n",
    "for i in range(id_):\n",
    "    original_x = next(generator_val)[\"x\"]\n",
    "    _, metadata_dict = data_processor.preprocess(\n",
    "        original_x,\n",
    "        num_events_inpainted=100,\n",
    "        training=False,\n",
    "        non_conditioned_examples=(null_superconditioning is not None),\n",
    "    )\n",
    "x = metadata_dict[\"original_sequence\"]\n",
    "\n",
    "\n",
    "\n",
    "# model_handler = get_handler(\n",
    "#     model=model,\n",
    "#     model_dir=model_dir,\n",
    "#     dataloader_generator=dataloader_generator,\n",
    "# )\n",
    "############################################################\n",
    "# inpainting\n",
    "\n",
    "# if load:\n",
    "#     if overfitted:\n",
    "#         model_handler.load(early_stopped=False, device=device)\n",
    "#     else:\n",
    "#         model_handler.load(early_stopped=True, device=device)\n",
    "\n",
    "start_time = time.time()\n",
    "(\n",
    "    x_gen,\n",
    "    _,\n",
    "    decoding_end,\n",
    "    num_event_generated,\n",
    "    _,\n",
    ") = model_handler.inpaint_non_optimized_superconditioning(\n",
    "    x=x.clone(),\n",
    "    metadata_dict=metadata_dict,\n",
    "    temperature=1.0,\n",
    "    top_p=0.95,\n",
    "    top_k=0,\n",
    "    regenerate_first_ts=False,\n",
    "    null_superconditioning=null_superconditioning,\n",
    ")\n",
    "end_time = time.time()\n",
    "############################################################\n"
   ]
  },
  {
   "cell_type": "code",
   "execution_count": 5,
   "metadata": {},
   "outputs": [
    {
     "data": {
      "text/plain": [
       "torch.Size([4, 1024, 4])"
      ]
     },
     "execution_count": 5,
     "metadata": {},
     "output_type": "execute_result"
    }
   ],
   "source": [
    "PrettyMIDI\n",
    "x_gen.shape"
   ]
  },
  {
   "cell_type": "code",
   "execution_count": 12,
   "metadata": {},
   "outputs": [
    {
     "data": {
      "text/plain": [
       "torch.Size([1, 1024, 4])"
      ]
     },
     "execution_count": 12,
     "metadata": {},
     "output_type": "execute_result"
    }
   ],
   "source": [
    "x.shape"
   ]
  },
  {
   "cell_type": "code",
   "execution_count": 23,
   "metadata": {},
   "outputs": [
    {
     "ename": "KeyError",
     "evalue": "92",
     "output_type": "error",
     "traceback": [
      "\u001b[0;31m---------------------------------------------------------------------------\u001b[0m",
      "\u001b[0;31mKeyError\u001b[0m                                  Traceback (most recent call last)",
      "\u001b[1;32m/share/hel/home/mathias/devel/python3/PIA.No3/pia.ipynb Cell 7\u001b[0m line \u001b[0;36m1\n\u001b[0;32m----> <a href='vscode-notebook-cell://ssh-remote%2Brk4.cp.jku.at/share/hel/home/mathias/devel/python3/PIA.No3/pia.ipynb#X10sdnNjb2RlLXJlbW90ZQ%3D%3D?line=0'>1</a>\u001b[0m dataloader_generator\u001b[39m.\u001b[39;49mwrite(x\u001b[39m.\u001b[39;49mcpu()[\u001b[39m0\u001b[39;49m], \u001b[39m'\u001b[39;49m\u001b[39mout/orig.mid\u001b[39;49m\u001b[39m'\u001b[39;49m)\n",
      "File \u001b[0;32m/share/hel/home/mathias/devel/python3/PIA.No3/CIA/dataloaders/piano_dataloader.py:67\u001b[0m, in \u001b[0;36mPianoDataloaderGenerator.write\u001b[0;34m(self, x, path)\u001b[0m\n\u001b[1;32m     62\u001b[0m \u001b[39m# values\u001b[39;00m\n\u001b[1;32m     63\u001b[0m sequences \u001b[39m=\u001b[39m {\n\u001b[1;32m     64\u001b[0m     feature: xs[:, feature_index]\n\u001b[1;32m     65\u001b[0m     \u001b[39mfor\u001b[39;00m feature_index, feature \u001b[39min\u001b[39;00m \u001b[39menumerate\u001b[39m(\u001b[39mself\u001b[39m\u001b[39m.\u001b[39mfeatures)\n\u001b[1;32m     66\u001b[0m }\n\u001b[0;32m---> 67\u001b[0m score \u001b[39m=\u001b[39m \u001b[39mself\u001b[39;49m\u001b[39m.\u001b[39;49mdataset\u001b[39m.\u001b[39;49mtensor_to_score(sequences, fill_features\u001b[39m=\u001b[39;49m\u001b[39mNone\u001b[39;49;00m)\n\u001b[1;32m     68\u001b[0m score\u001b[39m.\u001b[39mwrite(\u001b[39mf\u001b[39m\u001b[39m\"\u001b[39m\u001b[39m{\u001b[39;00mpath\u001b[39m}\u001b[39;00m\u001b[39m.mid\u001b[39m\u001b[39m\"\u001b[39m)\n\u001b[1;32m     69\u001b[0m \u001b[39mprint\u001b[39m(\u001b[39mf\u001b[39m\u001b[39m\"\u001b[39m\u001b[39mFile \u001b[39m\u001b[39m{\u001b[39;00mpath\u001b[39m}\u001b[39;00m\u001b[39m.mid written\u001b[39m\u001b[39m\"\u001b[39m)\n",
      "File \u001b[0;32m/share/hel/home/mathias/devel/python3/PIA.No3/CIA/dataset_managers/piano_midi_dataset.py:771\u001b[0m, in \u001b[0;36mPianoMidiDataset.tensor_to_score\u001b[0;34m(self, sequences, fill_features)\u001b[0m\n\u001b[1;32m    769\u001b[0m     pitch_value \u001b[39m=\u001b[39m \u001b[39mself\u001b[39m\u001b[39m.\u001b[39mdefault_value[\u001b[39m\"\u001b[39m\u001b[39mpitch\u001b[39m\u001b[39m\"\u001b[39m]\n\u001b[1;32m    770\u001b[0m \u001b[39melse\u001b[39;00m:\n\u001b[0;32m--> 771\u001b[0m     pitch_value \u001b[39m=\u001b[39m \u001b[39mself\u001b[39;49m\u001b[39m.\u001b[39;49mindex2value[\u001b[39m\"\u001b[39;49m\u001b[39mpitch\u001b[39;49m\u001b[39m\"\u001b[39;49m][pitch_ind]\n\u001b[1;32m    772\u001b[0m \u001b[39mif\u001b[39;00m \u001b[39m\"\u001b[39m\u001b[39mduration\u001b[39m\u001b[39m\"\u001b[39m \u001b[39min\u001b[39;00m fill_features:\n\u001b[1;32m    773\u001b[0m     duration_value \u001b[39m=\u001b[39m \u001b[39mself\u001b[39m\u001b[39m.\u001b[39mdefault_value[\u001b[39m\"\u001b[39m\u001b[39mduration\u001b[39m\u001b[39m\"\u001b[39m]\n",
      "\u001b[0;31mKeyError\u001b[0m: 92"
     ]
    }
   ],
   "source": [
    "dataloader_generator.write(x.cpu()[0], 'out/orig.mid')"
   ]
  },
  {
   "cell_type": "code",
   "execution_count": 8,
   "metadata": {},
   "outputs": [
    {
     "data": {
      "text/plain": [
       "<generator object PianoDataloaderGenerator.dataloaders.<locals>._build_dataloader at 0x7efca399d690>"
      ]
     },
     "execution_count": 8,
     "metadata": {},
     "output_type": "execute_result"
    }
   ],
   "source": [
    "generator_val"
   ]
  }
 ],
 "metadata": {
  "kernelspec": {
   "display_name": "dstm",
   "language": "python",
   "name": "python3"
  },
  "language_info": {
   "codemirror_mode": {
    "name": "ipython",
    "version": 3
   },
   "file_extension": ".py",
   "mimetype": "text/x-python",
   "name": "python",
   "nbconvert_exporter": "python",
   "pygments_lexer": "ipython3",
   "version": "3.10.4"
  },
  "orig_nbformat": 4
 },
 "nbformat": 4,
 "nbformat_minor": 2
}
