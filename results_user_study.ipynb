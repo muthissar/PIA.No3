{
 "cells": [
  {
   "cell_type": "code",
   "execution_count": 2,
   "metadata": {},
   "outputs": [],
   "source": [
    "%load_ext autoreload\n",
    "%autoreload 2"
   ]
  },
  {
   "cell_type": "code",
   "execution_count": 3,
   "metadata": {},
   "outputs": [],
   "source": [
    "from sqlalchemy import create_engine\n",
    "import pandas as pd\n",
    "from sklearn.metrics import confusion_matrix, ConfusionMatrixDisplay\n",
    "import matplotlib.pyplot as plt\n",
    "# import getpass\n"
   ]
  },
  {
   "cell_type": "code",
   "execution_count": 21,
   "metadata": {},
   "outputs": [],
   "source": [
    "# password = getpass.getpass()\n",
    "# !RSYNC_PASSWORD={password} rsync -avPR -e 'ssh -p 23263' mathias@gate08.aime.info:/home/mathias/workspace/pia-ic-web/./results.db ~/Downloads\n",
    "# del password\n",
    "!rsync pia@vxpod01.cp.jku.at:/var/home/pia/pia_persistent/results.db ~/Downloads"
   ]
  },
  {
   "cell_type": "code",
   "execution_count": 22,
   "metadata": {},
   "outputs": [],
   "source": [
    "db = '/home/mathias/Downloads/results.db'\n",
    "# db = '/home/mathias/devel/python/pia-ic-web/pia-ic-web/results.db'\n",
    "with create_engine(f'sqlite:///{db}').connect() as conn: \n",
    "    result = pd.read_sql_table('result', conn, index_col='id')\n",
    "    sample_collection = pd.read_sql_table('sample_collection', conn)\n",
    "    user = pd.read_sql_table('user', conn, index_col='id')\n"
   ]
  },
  {
   "cell_type": "code",
   "execution_count": 67,
   "metadata": {},
   "outputs": [
    {
     "data": {
      "text/plain": [
       "array([('2024-03-27 16:31:59', 'd30e81355ddfe0c3bc1975e719f3457053510c566c1e49e2494bae4dbfddc66a/samplingconfig-k-traces-128-temperature-1-0-n-poly-notes-none-dynamic-temperature-max-ic-50-0-top-p-0-0-top-k-0/kv331_1_start_-45_nodes_134_end_0/6', 'd30e81355ddfe0c3bc1975e719f3457053510c566c1e49e2494bae4dbfddc66a/samplingconfig-k-traces-128-temperature-1-0-n-poly-notes-none-dynamic-temperature-max-ic-50-0-top-p-0-0-top-k-0/kv331_1_start_-45_nodes_134_end_0/6'),\n",
       "       ('2024-03-27 16:46:29', '8be2450735d84156c7a8b0c22e611ca531bf536ab6f8e71ccc50c8817b9cc67a/samplingconfig-k-traces-128-temperature-1-0-n-poly-notes-none-dynamic-temperature-max-ic-50-0-top-p-0-0-top-k-0/126/1', '8be2450735d84156c7a8b0c22e611ca531bf536ab6f8e71ccc50c8817b9cc67a/samplingconfig-k-traces-128-temperature-1-0-n-poly-notes-none-dynamic-temperature-max-ic-50-0-top-p-0-0-top-k-0/126/1'),\n",
       "       ('2024-03-27 16:48:38', '8be2450735d84156c7a8b0c22e611ca531bf536ab6f8e71ccc50c8817b9cc67a/samplingconfig-k-traces-128-temperature-1-0-n-poly-notes-none-dynamic-temperature-max-ic-50-0-top-p-0-0-top-k-0/180/1', '8be2450735d84156c7a8b0c22e611ca531bf536ab6f8e71ccc50c8817b9cc67a/samplingconfig-k-traces-128-temperature-1-0-n-poly-notes-none-dynamic-temperature-max-ic-50-0-top-p-0-0-top-k-0/180/1'),\n",
       "       ('2024-03-27 16:48:53', '8be2450735d84156c7a8b0c22e611ca531bf536ab6f8e71ccc50c8817b9cc67a/samplingconfig-k-traces-128-temperature-1-0-n-poly-notes-none-dynamic-temperature-max-ic-50-0-top-p-0-0-top-k-0/180/1', '8be2450735d84156c7a8b0c22e611ca531bf536ab6f8e71ccc50c8817b9cc67a/samplingconfig-k-traces-128-temperature-1-0-n-poly-notes-none-dynamic-temperature-max-ic-50-0-top-p-0-0-top-k-0/180/1'),\n",
       "       ('2024-03-27 16:51:43', '8be2450735d84156c7a8b0c22e611ca531bf536ab6f8e71ccc50c8817b9cc67a/samplingconfig-k-traces-128-temperature-1-0-n-poly-notes-none-dynamic-temperature-max-ic-50-0-top-p-0-0-top-k-0/61/2', '8be2450735d84156c7a8b0c22e611ca531bf536ab6f8e71ccc50c8817b9cc67a/samplingconfig-k-traces-128-temperature-1-0-n-poly-notes-none-dynamic-temperature-max-ic-50-0-top-p-0-0-top-k-0/61/2')],\n",
       "      dtype=object)"
      ]
     },
     "execution_count": 67,
     "metadata": {},
     "output_type": "execute_result"
    }
   ],
   "source": [
    "def hehe(x):\n",
    "    return x['time'], x['correct_exp']+ '/'+'samplingconfig-k-traces-128-temperature-1-0-n-poly-notes-none-dynamic-temperature-max-ic-50-0-top-p-0-0-top-k-0'+'/'+x['correct_piece']+'/'+str(x['correct_sample']) ,x['selected_exp']+ '/'+'samplingconfig-k-traces-128-temperature-1-0-n-poly-notes-none-dynamic-temperature-max-ic-50-0-top-p-0-0-top-k-0'+'/'+x['selected_piece']+'/'+str(x['selected_sample'])\n",
    "result.tail(5).apply(hehe,axis=1).values\n"
   ]
  },
  {
   "cell_type": "code",
   "execution_count": 25,
   "metadata": {},
   "outputs": [
    {
     "data": {
      "text/plain": [
       "exp_type\n",
       "0               1.000000\n",
       "drawn_curves    0.722222\n",
       "dtype: float64"
      ]
     },
     "execution_count": 25,
     "metadata": {},
     "output_type": "execute_result"
    }
   ],
   "source": [
    "result.groupby('exp_type').apply(lambda result: (result.correct_exp == result.selected_exp).mean())"
   ]
  },
  {
   "cell_type": "code",
   "execution_count": 16,
   "metadata": {},
   "outputs": [
    {
     "data": {
      "text/html": [
       "<div>\n",
       "<style scoped>\n",
       "    .dataframe tbody tr th:only-of-type {\n",
       "        vertical-align: middle;\n",
       "    }\n",
       "\n",
       "    .dataframe tbody tr th {\n",
       "        vertical-align: top;\n",
       "    }\n",
       "\n",
       "    .dataframe thead th {\n",
       "        text-align: right;\n",
       "    }\n",
       "</style>\n",
       "<table border=\"1\" class=\"dataframe\">\n",
       "  <thead>\n",
       "    <tr style=\"text-align: right;\">\n",
       "      <th></th>\n",
       "      <th>id</th>\n",
       "      <th>time</th>\n",
       "      <th>exp_type</th>\n",
       "      <th>correct_piece</th>\n",
       "      <th>correct_exp</th>\n",
       "      <th>correct_sample</th>\n",
       "      <th>selected_piece</th>\n",
       "      <th>selected_exp</th>\n",
       "      <th>selected_sample</th>\n",
       "      <th>user_id</th>\n",
       "    </tr>\n",
       "  </thead>\n",
       "  <tbody>\n",
       "    <tr>\n",
       "      <th>0</th>\n",
       "      <td>1</td>\n",
       "      <td>2024-03-28 17:13:56</td>\n",
       "      <td>drawn_curves</td>\n",
       "      <td>kv331_1_start_-45_nodes_134_end_0</td>\n",
       "      <td>a6aa5f7b2689124d92900e130182eebe0394953f773fcf...</td>\n",
       "      <td>67</td>\n",
       "      <td>kv331_1_start_-45_nodes_134_end_0</td>\n",
       "      <td>a6aa5f7b2689124d92900e130182eebe0394953f773fcf...</td>\n",
       "      <td>67</td>\n",
       "      <td>1</td>\n",
       "    </tr>\n",
       "    <tr>\n",
       "      <th>1</th>\n",
       "      <td>2</td>\n",
       "      <td>2024-03-28 17:15:31</td>\n",
       "      <td>drawn_curves</td>\n",
       "      <td>kv331_1_start_-45_nodes_134_end_0</td>\n",
       "      <td>d30e81355ddfe0c3bc1975e719f3457053510c566c1e49...</td>\n",
       "      <td>90</td>\n",
       "      <td>kv331_1_start_-45_nodes_134_end_0</td>\n",
       "      <td>d30e81355ddfe0c3bc1975e719f3457053510c566c1e49...</td>\n",
       "      <td>90</td>\n",
       "      <td>1</td>\n",
       "    </tr>\n",
       "    <tr>\n",
       "      <th>2</th>\n",
       "      <td>3</td>\n",
       "      <td>2024-03-28 17:17:38</td>\n",
       "      <td>drawn_curves</td>\n",
       "      <td>kv331_1_start_-45_nodes_134_end_0</td>\n",
       "      <td>d30e81355ddfe0c3bc1975e719f3457053510c566c1e49...</td>\n",
       "      <td>135</td>\n",
       "      <td>kv331_1_start_-45_nodes_134_end_0</td>\n",
       "      <td>d30e81355ddfe0c3bc1975e719f3457053510c566c1e49...</td>\n",
       "      <td>135</td>\n",
       "      <td>1</td>\n",
       "    </tr>\n",
       "    <tr>\n",
       "      <th>3</th>\n",
       "      <td>4</td>\n",
       "      <td>2024-03-28 17:18:21</td>\n",
       "      <td>drawn_curves</td>\n",
       "      <td>kv331_1_start_-45_nodes_134_end_0</td>\n",
       "      <td>d52c4aa9a59ad9edb6c51cc4032185f21d1ea1cec9224e...</td>\n",
       "      <td>25</td>\n",
       "      <td>kv331_1_start_-45_nodes_134_end_0</td>\n",
       "      <td>d52c4aa9a59ad9edb6c51cc4032185f21d1ea1cec9224e...</td>\n",
       "      <td>25</td>\n",
       "      <td>1</td>\n",
       "    </tr>\n",
       "    <tr>\n",
       "      <th>4</th>\n",
       "      <td>5</td>\n",
       "      <td>2024-03-28 17:21:42</td>\n",
       "      <td>drawn_curves</td>\n",
       "      <td>kv331_1_start_-45_nodes_134_end_0</td>\n",
       "      <td>72a43dd9af72e7ccd05ba5ecc8e1fd8e535846e8388e73...</td>\n",
       "      <td>109</td>\n",
       "      <td>kv331_1_start_-45_nodes_134_end_0</td>\n",
       "      <td>5866e160e605939fa3643f4d30e00db67e4a8b6a4f1e1b...</td>\n",
       "      <td>67</td>\n",
       "      <td>1</td>\n",
       "    </tr>\n",
       "    <tr>\n",
       "      <th>5</th>\n",
       "      <td>6</td>\n",
       "      <td>2024-03-28 17:26:23</td>\n",
       "      <td>drawn_curves</td>\n",
       "      <td>kv332_2_start_149_nodes_177_end_0</td>\n",
       "      <td>72a43dd9af72e7ccd05ba5ecc8e1fd8e535846e8388e73...</td>\n",
       "      <td>105</td>\n",
       "      <td>kv332_2_start_149_nodes_177_end_0</td>\n",
       "      <td>5866e160e605939fa3643f4d30e00db67e4a8b6a4f1e1b...</td>\n",
       "      <td>43</td>\n",
       "      <td>1</td>\n",
       "    </tr>\n",
       "    <tr>\n",
       "      <th>7</th>\n",
       "      <td>8</td>\n",
       "      <td>2024-03-28 17:32:17</td>\n",
       "      <td>drawn_curves</td>\n",
       "      <td>kv332_2_start_149_nodes_177_end_0</td>\n",
       "      <td>72a43dd9af72e7ccd05ba5ecc8e1fd8e535846e8388e73...</td>\n",
       "      <td>126</td>\n",
       "      <td>kv332_2_start_149_nodes_177_end_0</td>\n",
       "      <td>72a43dd9af72e7ccd05ba5ecc8e1fd8e535846e8388e73...</td>\n",
       "      <td>126</td>\n",
       "      <td>1</td>\n",
       "    </tr>\n",
       "    <tr>\n",
       "      <th>8</th>\n",
       "      <td>9</td>\n",
       "      <td>2024-03-28 17:33:20</td>\n",
       "      <td>drawn_curves</td>\n",
       "      <td>kv331_1_start_-45_nodes_134_end_0</td>\n",
       "      <td>72a43dd9af72e7ccd05ba5ecc8e1fd8e535846e8388e73...</td>\n",
       "      <td>4</td>\n",
       "      <td>kv331_1_start_-45_nodes_134_end_0</td>\n",
       "      <td>72a43dd9af72e7ccd05ba5ecc8e1fd8e535846e8388e73...</td>\n",
       "      <td>4</td>\n",
       "      <td>1</td>\n",
       "    </tr>\n",
       "    <tr>\n",
       "      <th>9</th>\n",
       "      <td>10</td>\n",
       "      <td>2024-03-28 17:34:47</td>\n",
       "      <td>drawn_curves</td>\n",
       "      <td>kv332_2_start_149_nodes_177_end_0</td>\n",
       "      <td>a6aa5f7b2689124d92900e130182eebe0394953f773fcf...</td>\n",
       "      <td>43</td>\n",
       "      <td>kv332_2_start_149_nodes_177_end_0</td>\n",
       "      <td>5866e160e605939fa3643f4d30e00db67e4a8b6a4f1e1b...</td>\n",
       "      <td>56</td>\n",
       "      <td>1</td>\n",
       "    </tr>\n",
       "    <tr>\n",
       "      <th>10</th>\n",
       "      <td>11</td>\n",
       "      <td>2024-03-28 17:37:39</td>\n",
       "      <td>drawn_curves</td>\n",
       "      <td>kv332_2_start_149_nodes_177_end_0</td>\n",
       "      <td>5866e160e605939fa3643f4d30e00db67e4a8b6a4f1e1b...</td>\n",
       "      <td>107</td>\n",
       "      <td>kv332_2_start_149_nodes_177_end_0</td>\n",
       "      <td>5866e160e605939fa3643f4d30e00db67e4a8b6a4f1e1b...</td>\n",
       "      <td>107</td>\n",
       "      <td>1</td>\n",
       "    </tr>\n",
       "    <tr>\n",
       "      <th>11</th>\n",
       "      <td>12</td>\n",
       "      <td>2024-03-28 17:39:11</td>\n",
       "      <td>drawn_curves</td>\n",
       "      <td>kv332_2_start_149_nodes_177_end_0</td>\n",
       "      <td>72a43dd9af72e7ccd05ba5ecc8e1fd8e535846e8388e73...</td>\n",
       "      <td>143</td>\n",
       "      <td>kv332_2_start_149_nodes_177_end_0</td>\n",
       "      <td>a6aa5f7b2689124d92900e130182eebe0394953f773fcf...</td>\n",
       "      <td>88</td>\n",
       "      <td>1</td>\n",
       "    </tr>\n",
       "    <tr>\n",
       "      <th>12</th>\n",
       "      <td>13</td>\n",
       "      <td>2024-03-28 17:45:33</td>\n",
       "      <td>drawn_curves</td>\n",
       "      <td>kv331_1_start_-45_nodes_134_end_0</td>\n",
       "      <td>a6aa5f7b2689124d92900e130182eebe0394953f773fcf...</td>\n",
       "      <td>119</td>\n",
       "      <td>kv331_1_start_-45_nodes_134_end_0</td>\n",
       "      <td>a6aa5f7b2689124d92900e130182eebe0394953f773fcf...</td>\n",
       "      <td>119</td>\n",
       "      <td>1</td>\n",
       "    </tr>\n",
       "  </tbody>\n",
       "</table>\n",
       "</div>"
      ],
      "text/plain": [
       "    id                 time      exp_type                      correct_piece  \\\n",
       "0    1  2024-03-28 17:13:56  drawn_curves  kv331_1_start_-45_nodes_134_end_0   \n",
       "1    2  2024-03-28 17:15:31  drawn_curves  kv331_1_start_-45_nodes_134_end_0   \n",
       "2    3  2024-03-28 17:17:38  drawn_curves  kv331_1_start_-45_nodes_134_end_0   \n",
       "3    4  2024-03-28 17:18:21  drawn_curves  kv331_1_start_-45_nodes_134_end_0   \n",
       "4    5  2024-03-28 17:21:42  drawn_curves  kv331_1_start_-45_nodes_134_end_0   \n",
       "5    6  2024-03-28 17:26:23  drawn_curves  kv332_2_start_149_nodes_177_end_0   \n",
       "7    8  2024-03-28 17:32:17  drawn_curves  kv332_2_start_149_nodes_177_end_0   \n",
       "8    9  2024-03-28 17:33:20  drawn_curves  kv331_1_start_-45_nodes_134_end_0   \n",
       "9   10  2024-03-28 17:34:47  drawn_curves  kv332_2_start_149_nodes_177_end_0   \n",
       "10  11  2024-03-28 17:37:39  drawn_curves  kv332_2_start_149_nodes_177_end_0   \n",
       "11  12  2024-03-28 17:39:11  drawn_curves  kv332_2_start_149_nodes_177_end_0   \n",
       "12  13  2024-03-28 17:45:33  drawn_curves  kv331_1_start_-45_nodes_134_end_0   \n",
       "\n",
       "                                          correct_exp  correct_sample  \\\n",
       "0   a6aa5f7b2689124d92900e130182eebe0394953f773fcf...              67   \n",
       "1   d30e81355ddfe0c3bc1975e719f3457053510c566c1e49...              90   \n",
       "2   d30e81355ddfe0c3bc1975e719f3457053510c566c1e49...             135   \n",
       "3   d52c4aa9a59ad9edb6c51cc4032185f21d1ea1cec9224e...              25   \n",
       "4   72a43dd9af72e7ccd05ba5ecc8e1fd8e535846e8388e73...             109   \n",
       "5   72a43dd9af72e7ccd05ba5ecc8e1fd8e535846e8388e73...             105   \n",
       "7   72a43dd9af72e7ccd05ba5ecc8e1fd8e535846e8388e73...             126   \n",
       "8   72a43dd9af72e7ccd05ba5ecc8e1fd8e535846e8388e73...               4   \n",
       "9   a6aa5f7b2689124d92900e130182eebe0394953f773fcf...              43   \n",
       "10  5866e160e605939fa3643f4d30e00db67e4a8b6a4f1e1b...             107   \n",
       "11  72a43dd9af72e7ccd05ba5ecc8e1fd8e535846e8388e73...             143   \n",
       "12  a6aa5f7b2689124d92900e130182eebe0394953f773fcf...             119   \n",
       "\n",
       "                       selected_piece  \\\n",
       "0   kv331_1_start_-45_nodes_134_end_0   \n",
       "1   kv331_1_start_-45_nodes_134_end_0   \n",
       "2   kv331_1_start_-45_nodes_134_end_0   \n",
       "3   kv331_1_start_-45_nodes_134_end_0   \n",
       "4   kv331_1_start_-45_nodes_134_end_0   \n",
       "5   kv332_2_start_149_nodes_177_end_0   \n",
       "7   kv332_2_start_149_nodes_177_end_0   \n",
       "8   kv331_1_start_-45_nodes_134_end_0   \n",
       "9   kv332_2_start_149_nodes_177_end_0   \n",
       "10  kv332_2_start_149_nodes_177_end_0   \n",
       "11  kv332_2_start_149_nodes_177_end_0   \n",
       "12  kv331_1_start_-45_nodes_134_end_0   \n",
       "\n",
       "                                         selected_exp  selected_sample  \\\n",
       "0   a6aa5f7b2689124d92900e130182eebe0394953f773fcf...               67   \n",
       "1   d30e81355ddfe0c3bc1975e719f3457053510c566c1e49...               90   \n",
       "2   d30e81355ddfe0c3bc1975e719f3457053510c566c1e49...              135   \n",
       "3   d52c4aa9a59ad9edb6c51cc4032185f21d1ea1cec9224e...               25   \n",
       "4   5866e160e605939fa3643f4d30e00db67e4a8b6a4f1e1b...               67   \n",
       "5   5866e160e605939fa3643f4d30e00db67e4a8b6a4f1e1b...               43   \n",
       "7   72a43dd9af72e7ccd05ba5ecc8e1fd8e535846e8388e73...              126   \n",
       "8   72a43dd9af72e7ccd05ba5ecc8e1fd8e535846e8388e73...                4   \n",
       "9   5866e160e605939fa3643f4d30e00db67e4a8b6a4f1e1b...               56   \n",
       "10  5866e160e605939fa3643f4d30e00db67e4a8b6a4f1e1b...              107   \n",
       "11  a6aa5f7b2689124d92900e130182eebe0394953f773fcf...               88   \n",
       "12  a6aa5f7b2689124d92900e130182eebe0394953f773fcf...              119   \n",
       "\n",
       "    user_id  \n",
       "0         1  \n",
       "1         1  \n",
       "2         1  \n",
       "3         1  \n",
       "4         1  \n",
       "5         1  \n",
       "7         1  \n",
       "8         1  \n",
       "9         1  \n",
       "10        1  \n",
       "11        1  \n",
       "12        1  "
      ]
     },
     "execution_count": 16,
     "metadata": {},
     "output_type": "execute_result"
    }
   ],
   "source": [
    "result[result.exp_type == 'drawn_curves']"
   ]
  },
  {
   "cell_type": "code",
   "execution_count": 21,
   "metadata": {},
   "outputs": [
    {
     "data": {
      "text/plain": [
       "(0.6666666666666666, 0.2)"
      ]
     },
     "execution_count": 21,
     "metadata": {},
     "output_type": "execute_result"
    }
   ],
   "source": [
    "4/6, 1/5"
   ]
  },
  {
   "cell_type": "code",
   "execution_count": 20,
   "metadata": {},
   "outputs": [
    {
     "data": {
      "text/plain": [
       "array(['a6aa5f7b2689124d92900e130182eebe0394953f773fcfec9b9e9e1466e792da',\n",
       "       'd30e81355ddfe0c3bc1975e719f3457053510c566c1e49e2494bae4dbfddc66a',\n",
       "       'd52c4aa9a59ad9edb6c51cc4032185f21d1ea1cec9224e7ee636a971ec8432aa',\n",
       "       '72a43dd9af72e7ccd05ba5ecc8e1fd8e535846e8388e735e0c5e349e7540c30b',\n",
       "       '8be2450735d84156c7a8b0c22e611ca531bf536ab6f8e71ccc50c8817b9cc67a',\n",
       "       '5866e160e605939fa3643f4d30e00db67e4a8b6a4f1e1b22434182868a7052ca'],\n",
       "      dtype=object)"
      ]
     },
     "execution_count": 20,
     "metadata": {},
     "output_type": "execute_result"
    }
   ],
   "source": [
    "result.correct_exp.unique()"
   ]
  },
  {
   "cell_type": "code",
   "execution_count": 7,
   "metadata": {},
   "outputs": [
    {
     "data": {
      "text/plain": [
       "['a6aa5f7b2689124d92900e130182eebe0394953f773fcfec9b9e9e1466e792da',\n",
       " '72a43dd9af72e7ccd05ba5ecc8e1fd8e535846e8388e735e0c5e349e7540c30b',\n",
       " 'd30e81355ddfe0c3bc1975e719f3457053510c566c1e49e2494bae4dbfddc66a',\n",
       " 'd52c4aa9a59ad9edb6c51cc4032185f21d1ea1cec9224e7ee636a971ec8432aa',\n",
       " '5866e160e605939fa3643f4d30e00db67e4a8b6a4f1e1b22434182868a7052ca']"
      ]
     },
     "execution_count": 7,
     "metadata": {},
     "output_type": "execute_result"
    }
   ],
   "source": [
    "list(exp_mapper.keys())"
   ]
  },
  {
   "cell_type": "code",
   "execution_count": 8,
   "metadata": {},
   "outputs": [
    {
     "ename": "KeyError",
     "evalue": "'8be2450735d84156c7a8b0c22e611ca531bf536ab6f8e71ccc50c8817b9cc67a'",
     "output_type": "error",
     "traceback": [
      "\u001b[0;31m---------------------------------------------------------------------------\u001b[0m",
      "\u001b[0;31mKeyError\u001b[0m                                  Traceback (most recent call last)",
      "Cell \u001b[0;32mIn[8], line 1\u001b[0m\n\u001b[0;32m----> 1\u001b[0m \u001b[43mresult\u001b[49m\u001b[38;5;241;43m.\u001b[39;49m\u001b[43mcorrect_exp\u001b[49m\u001b[38;5;241;43m.\u001b[39;49m\u001b[43mapply\u001b[49m\u001b[43m(\u001b[49m\u001b[38;5;28;43;01mlambda\u001b[39;49;00m\u001b[43m \u001b[49m\u001b[43mx\u001b[49m\u001b[43m:\u001b[49m\u001b[43m \u001b[49m\u001b[43mexp_mapper\u001b[49m\u001b[43m[\u001b[49m\u001b[43mx\u001b[49m\u001b[43m]\u001b[49m\u001b[43m)\u001b[49m\n",
      "File \u001b[0;32m~/miniconda3/envs/pia-web/lib/python3.8/site-packages/pandas/core/series.py:4433\u001b[0m, in \u001b[0;36mSeries.apply\u001b[0;34m(self, func, convert_dtype, args, **kwargs)\u001b[0m\n\u001b[1;32m   4323\u001b[0m \u001b[38;5;28;01mdef\u001b[39;00m \u001b[38;5;21mapply\u001b[39m(\n\u001b[1;32m   4324\u001b[0m     \u001b[38;5;28mself\u001b[39m,\n\u001b[1;32m   4325\u001b[0m     func: AggFuncType,\n\u001b[0;32m   (...)\u001b[0m\n\u001b[1;32m   4328\u001b[0m     \u001b[38;5;241m*\u001b[39m\u001b[38;5;241m*\u001b[39mkwargs,\n\u001b[1;32m   4329\u001b[0m ) \u001b[38;5;241m-\u001b[39m\u001b[38;5;241m>\u001b[39m DataFrame \u001b[38;5;241m|\u001b[39m Series:\n\u001b[1;32m   4330\u001b[0m \u001b[38;5;250m    \u001b[39m\u001b[38;5;124;03m\"\"\"\u001b[39;00m\n\u001b[1;32m   4331\u001b[0m \u001b[38;5;124;03m    Invoke function on values of Series.\u001b[39;00m\n\u001b[1;32m   4332\u001b[0m \n\u001b[0;32m   (...)\u001b[0m\n\u001b[1;32m   4431\u001b[0m \u001b[38;5;124;03m    dtype: float64\u001b[39;00m\n\u001b[1;32m   4432\u001b[0m \u001b[38;5;124;03m    \"\"\"\u001b[39;00m\n\u001b[0;32m-> 4433\u001b[0m     \u001b[38;5;28;01mreturn\u001b[39;00m \u001b[43mSeriesApply\u001b[49m\u001b[43m(\u001b[49m\u001b[38;5;28;43mself\u001b[39;49m\u001b[43m,\u001b[49m\u001b[43m \u001b[49m\u001b[43mfunc\u001b[49m\u001b[43m,\u001b[49m\u001b[43m \u001b[49m\u001b[43mconvert_dtype\u001b[49m\u001b[43m,\u001b[49m\u001b[43m \u001b[49m\u001b[43margs\u001b[49m\u001b[43m,\u001b[49m\u001b[43m \u001b[49m\u001b[43mkwargs\u001b[49m\u001b[43m)\u001b[49m\u001b[38;5;241;43m.\u001b[39;49m\u001b[43mapply\u001b[49m\u001b[43m(\u001b[49m\u001b[43m)\u001b[49m\n",
      "File \u001b[0;32m~/miniconda3/envs/pia-web/lib/python3.8/site-packages/pandas/core/apply.py:1088\u001b[0m, in \u001b[0;36mSeriesApply.apply\u001b[0;34m(self)\u001b[0m\n\u001b[1;32m   1084\u001b[0m \u001b[38;5;28;01mif\u001b[39;00m \u001b[38;5;28misinstance\u001b[39m(\u001b[38;5;28mself\u001b[39m\u001b[38;5;241m.\u001b[39mf, \u001b[38;5;28mstr\u001b[39m):\n\u001b[1;32m   1085\u001b[0m     \u001b[38;5;66;03m# if we are a string, try to dispatch\u001b[39;00m\n\u001b[1;32m   1086\u001b[0m     \u001b[38;5;28;01mreturn\u001b[39;00m \u001b[38;5;28mself\u001b[39m\u001b[38;5;241m.\u001b[39mapply_str()\n\u001b[0;32m-> 1088\u001b[0m \u001b[38;5;28;01mreturn\u001b[39;00m \u001b[38;5;28;43mself\u001b[39;49m\u001b[38;5;241;43m.\u001b[39;49m\u001b[43mapply_standard\u001b[49m\u001b[43m(\u001b[49m\u001b[43m)\u001b[49m\n",
      "File \u001b[0;32m~/miniconda3/envs/pia-web/lib/python3.8/site-packages/pandas/core/apply.py:1143\u001b[0m, in \u001b[0;36mSeriesApply.apply_standard\u001b[0;34m(self)\u001b[0m\n\u001b[1;32m   1137\u001b[0m         values \u001b[38;5;241m=\u001b[39m obj\u001b[38;5;241m.\u001b[39mastype(\u001b[38;5;28mobject\u001b[39m)\u001b[38;5;241m.\u001b[39m_values\n\u001b[1;32m   1138\u001b[0m         \u001b[38;5;66;03m# error: Argument 2 to \"map_infer\" has incompatible type\u001b[39;00m\n\u001b[1;32m   1139\u001b[0m         \u001b[38;5;66;03m# \"Union[Callable[..., Any], str, List[Union[Callable[..., Any], str]],\u001b[39;00m\n\u001b[1;32m   1140\u001b[0m         \u001b[38;5;66;03m# Dict[Hashable, Union[Union[Callable[..., Any], str],\u001b[39;00m\n\u001b[1;32m   1141\u001b[0m         \u001b[38;5;66;03m# List[Union[Callable[..., Any], str]]]]]\"; expected\u001b[39;00m\n\u001b[1;32m   1142\u001b[0m         \u001b[38;5;66;03m# \"Callable[[Any], Any]\"\u001b[39;00m\n\u001b[0;32m-> 1143\u001b[0m         mapped \u001b[38;5;241m=\u001b[39m \u001b[43mlib\u001b[49m\u001b[38;5;241;43m.\u001b[39;49m\u001b[43mmap_infer\u001b[49m\u001b[43m(\u001b[49m\n\u001b[1;32m   1144\u001b[0m \u001b[43m            \u001b[49m\u001b[43mvalues\u001b[49m\u001b[43m,\u001b[49m\n\u001b[1;32m   1145\u001b[0m \u001b[43m            \u001b[49m\u001b[43mf\u001b[49m\u001b[43m,\u001b[49m\u001b[43m  \u001b[49m\u001b[38;5;66;43;03m# type: ignore[arg-type]\u001b[39;49;00m\n\u001b[1;32m   1146\u001b[0m \u001b[43m            \u001b[49m\u001b[43mconvert\u001b[49m\u001b[38;5;241;43m=\u001b[39;49m\u001b[38;5;28;43mself\u001b[39;49m\u001b[38;5;241;43m.\u001b[39;49m\u001b[43mconvert_dtype\u001b[49m\u001b[43m,\u001b[49m\n\u001b[1;32m   1147\u001b[0m \u001b[43m        \u001b[49m\u001b[43m)\u001b[49m\n\u001b[1;32m   1149\u001b[0m \u001b[38;5;28;01mif\u001b[39;00m \u001b[38;5;28mlen\u001b[39m(mapped) \u001b[38;5;129;01mand\u001b[39;00m \u001b[38;5;28misinstance\u001b[39m(mapped[\u001b[38;5;241m0\u001b[39m], ABCSeries):\n\u001b[1;32m   1150\u001b[0m     \u001b[38;5;66;03m# GH#43986 Need to do list(mapped) in order to get treated as nested\u001b[39;00m\n\u001b[1;32m   1151\u001b[0m     \u001b[38;5;66;03m#  See also GH#25959 regarding EA support\u001b[39;00m\n\u001b[1;32m   1152\u001b[0m     \u001b[38;5;28;01mreturn\u001b[39;00m obj\u001b[38;5;241m.\u001b[39m_constructor_expanddim(\u001b[38;5;28mlist\u001b[39m(mapped), index\u001b[38;5;241m=\u001b[39mobj\u001b[38;5;241m.\u001b[39mindex)\n",
      "File \u001b[0;32m~/miniconda3/envs/pia-web/lib/python3.8/site-packages/pandas/_libs/lib.pyx:2870\u001b[0m, in \u001b[0;36mpandas._libs.lib.map_infer\u001b[0;34m()\u001b[0m\n",
      "Cell \u001b[0;32mIn[8], line 1\u001b[0m, in \u001b[0;36m<lambda>\u001b[0;34m(x)\u001b[0m\n\u001b[0;32m----> 1\u001b[0m result\u001b[38;5;241m.\u001b[39mcorrect_exp\u001b[38;5;241m.\u001b[39mapply(\u001b[38;5;28;01mlambda\u001b[39;00m x: \u001b[43mexp_mapper\u001b[49m\u001b[43m[\u001b[49m\u001b[43mx\u001b[49m\u001b[43m]\u001b[49m)\n",
      "\u001b[0;31mKeyError\u001b[0m: '8be2450735d84156c7a8b0c22e611ca531bf536ab6f8e71ccc50c8817b9cc67a'"
     ]
    }
   ],
   "source": [
    "result.correct_exp.apply(lambda x: exp_mapper[x])"
   ]
  },
  {
   "cell_type": "code",
   "execution_count": 26,
   "metadata": {},
   "outputs": [
    {
     "data": {
      "image/png": "[encoded data removed]",
      "text/plain": [
       "<Figure size 640x480 with 2 Axes>"
      ]
     },
     "metadata": {},
     "output_type": "display_data"
    }
   ],
   "source": [
    "# ['constantlow', 5.0, 5.0],\n",
    "# ['rampdown2', null, null],\n",
    "# ['squareoffset', null, null],\n",
    "# ['rampup2', null, null],\n",
    "# ['square', null, null],\n",
    "exp_mapper = {'a6aa5f7b2689124d92900e130182eebe0394953f773fcfec9b9e9e1466e792da': 'constantlow',\n",
    "'72a43dd9af72e7ccd05ba5ecc8e1fd8e535846e8388e735e0c5e349e7540c30b': 'rampdown2',\n",
    "'d30e81355ddfe0c3bc1975e719f3457053510c566c1e49e2494bae4dbfddc66a': 'squareoffset',\n",
    "'d52c4aa9a59ad9edb6c51cc4032185f21d1ea1cec9224e7ee636a971ec8432aa': 'rampup2',\n",
    "'5866e160e605939fa3643f4d30e00db67e4a8b6a4f1e1b22434182868a7052ca': 'square'}\n",
    "# labels = result.exp.apply(lambda x: exp_mapper[x.exp])\n",
    "labels = list(exp_mapper.values())\n",
    "result_gen = result[result.correct_exp != '8be2450735d84156c7a8b0c22e611ca531bf536ab6f8e71ccc50c8817b9cc67a'] \n",
    "result_gen = result_gen[result_gen.user_id == 4]\n",
    "\n",
    "# normalize='true' -> recall in diag\n",
    "# normalize='pred' -> precision in diag\n",
    "cm = confusion_matrix(y_true=result_gen.correct_exp.apply(lambda x: exp_mapper[x]), y_pred=result_gen.selected_exp.apply(lambda x: exp_mapper[x]), labels=labels)\n",
    "disp = ConfusionMatrixDisplay(confusion_matrix=cm, display_labels=labels)\n",
    "\n",
    "disp.plot(cmap='coolwarm')\n",
    "# disp.plot()\n",
    "plt.xticks(rotation=45)\n",
    "plt.show()"
   ]
  }
 ],
 "metadata": {
  "kernelspec": {
   "display_name": "Python 3",
   "language": "python",
   "name": "python3"
  },
  "language_info": {
   "codemirror_mode": {
    "name": "ipython",
    "version": 3
   },
   "file_extension": ".py",
   "mimetype": "text/x-python",
   "name": "python",
   "nbconvert_exporter": "python",
   "pygments_lexer": "ipython3",
   "version": "3.8.18"
  }
 },
 "nbformat": 4,
 "nbformat_minor": 2
}
